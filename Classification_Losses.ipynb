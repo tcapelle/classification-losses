{
  "nbformat": 4,
  "nbformat_minor": 0,
  "metadata": {
    "colab": {
      "name": "Classification_Losses.ipynb",
      "provenance": [],
      "collapsed_sections": [],
      "toc_visible": true,
      "authorship_tag": "ABX9TyMwsZryJJiFKpp2Rv/SaoN1",
      "include_colab_link": true
    },
    "kernelspec": {
      "name": "python3",
      "display_name": "Python 3"
    },
    "language_info": {
      "name": "python"
    },
    "accelerator": "GPU"
  },
  "cells": [
    {
      "cell_type": "markdown",
      "metadata": {
        "id": "view-in-github",
        "colab_type": "text"
      },
      "source": [
        "<a href=\"https://colab.research.google.com/github/tcapelle/classification-losses/blob/main/Classification_Losses.ipynb\" target=\"_parent\"><img src=\"https://colab.research.google.com/assets/colab-badge.svg\" alt=\"Open In Colab\"/></a>"
      ]
    },
    {
      "cell_type": "markdown",
      "source": [
        "# Classification Losses\n",
        "> This notebook accompains this [report](https://wandb.ai/capecape/classification-techniques/reports/Classifiction-Losses-SoftMax-and-Cross-Entropy-what-s-the-deal---VmlldzoxODEwNTM5)\n",
        "\n",
        "<!--- @wandbcode{classification-losses} -->"
      ],
      "metadata": {
        "id": "TY4TLV4DkpPU"
      }
    },
    {
      "cell_type": "code",
      "source": [
        "!pip install -Uqqq wandb"
      ],
      "metadata": {
        "id": "mWKoljqSuq0V"
      },
      "execution_count": null,
      "outputs": []
    },
    {
      "cell_type": "code",
      "source": [
        "# log to Weights and Biases\n",
        "import wandb\n",
        "wandb.login()"
      ],
      "metadata": {
        "id": "FdOK6IyMuujd"
      },
      "execution_count": null,
      "outputs": []
    },
    {
      "cell_type": "markdown",
      "source": [
        "## PyTorch"
      ],
      "metadata": {
        "id": "yWqmqijTwJvw"
      }
    },
    {
      "cell_type": "markdown",
      "source": [
        "Let's get some data first, we will use the same code as in our [example](https://wandb.me/intro). "
      ],
      "metadata": {
        "id": "8WawDRn4tKEZ"
      }
    },
    {
      "cell_type": "code",
      "source": [
        "#@title\n",
        "import math\n",
        "import torch, torchvision\n",
        "import torch.nn as nn\n",
        "import torchvision.transforms as T\n",
        "from tqdm.notebook import tqdm\n",
        "\n",
        "device = \"cuda:0\" if torch.cuda.is_available() else \"cpu\"\n",
        "\n",
        "def get_dataloader(is_train, batch_size, slice=5):\n",
        "    \"Get a training dataloader\"\n",
        "    full_dataset = torchvision.datasets.MNIST(root=\".\", train=is_train, transform=T.ToTensor(), download=True)\n",
        "    sub_dataset = torch.utils.data.Subset(full_dataset, indices=range(0, len(full_dataset), slice))\n",
        "    loader = torch.utils.data.DataLoader(dataset=sub_dataset, \n",
        "                                         batch_size=batch_size, \n",
        "                                         shuffle=True if is_train else False, \n",
        "                                         pin_memory=True, num_workers=2)\n",
        "    return loader\n",
        "\n",
        "def get_model(last_layer=None):\n",
        "    \"A simple model\"\n",
        "    \n",
        "    layers = [nn.Flatten(),\n",
        "              nn.Linear(28*28, 256),\n",
        "              nn.BatchNorm1d(256),\n",
        "              nn.ReLU(),\n",
        "              nn.Linear(256,10)]\n",
        "    \n",
        "    layers += [last_layer] if last_layer else []\n",
        "    \n",
        "    model = nn.Sequential(*layers).to(device)\n",
        "    return model\n",
        "\n",
        "def validate_model(model, valid_dl, loss_func, log_images=False, batch_idx=0):\n",
        "    \"Compute performance of the model on the validation dataset and log a wandb.Table\"\n",
        "    model.eval()\n",
        "    val_loss = 0.\n",
        "    with torch.inference_mode():\n",
        "        correct = 0\n",
        "        for i, (images, labels) in tqdm(enumerate(valid_dl), leave=False):\n",
        "            images, labels = images.to(device), labels.to(device)\n",
        "\n",
        "            # Forward pass ➡\n",
        "            outputs = model(images)\n",
        "            val_loss += loss_func(outputs, labels)*labels.size(0)\n",
        "\n",
        "            # Compute accuracy and accumulate\n",
        "            _, predicted = torch.max(outputs.data, 1)\n",
        "            correct += (predicted == labels).sum().item()\n",
        "\n",
        "    return val_loss / len(valid_dl.dataset), correct / len(valid_dl.dataset)"
      ],
      "metadata": {
        "cellView": "form",
        "id": "Uoih9h-Tk1rd"
      },
      "execution_count": null,
      "outputs": []
    },
    {
      "cell_type": "code",
      "source": [
        "def train(model, loss_func, config):\n",
        "    \n",
        "    # Get the data\n",
        "    train_dl = get_dataloader(is_train=True, batch_size=config.batch_size)\n",
        "    valid_dl = get_dataloader(is_train=False, batch_size=2*config.batch_size)\n",
        "    n_steps_per_epoch = math.ceil(len(train_dl.dataset) / config.batch_size)\n",
        "    \n",
        "    optimizer = torch.optim.Adam(model.parameters(), lr=config.lr)\n",
        "    # Training\n",
        "    example_ct = 0\n",
        "    step_ct = 0\n",
        "    for epoch in tqdm(range(config.epochs)):\n",
        "        model.train()\n",
        "        for step, (images, labels) in enumerate(tqdm(train_dl, leave=False)):\n",
        "            images, labels = images.to(device), labels.to(device)\n",
        "\n",
        "            outputs = model(images)\n",
        "            train_loss = loss_func(outputs, labels)\n",
        "            optimizer.zero_grad()\n",
        "            train_loss.backward()\n",
        "            optimizer.step()\n",
        "\n",
        "            example_ct += len(images)\n",
        "            metrics = {\"train/train_loss\": train_loss, \n",
        "                       \"train/epoch\": (step + 1 + (n_steps_per_epoch * epoch)) / n_steps_per_epoch, \n",
        "                       \"train/example_ct\": example_ct}\n",
        "\n",
        "            if step + 1 < n_steps_per_epoch:\n",
        "                # 🐝 Log train metrics to wandb \n",
        "                wandb.log(metrics)\n",
        "\n",
        "            step_ct += 1\n",
        "\n",
        "        val_loss, accuracy = validate_model(model, valid_dl, loss_func, log_images=(epoch==(config.epochs-1)))\n",
        "\n",
        "        # 🐝 Log train and validation metrics to wandb\n",
        "        val_metrics = {\"val/val_loss\": val_loss, \n",
        "                       \"val/val_accuracy\": accuracy}\n",
        "        wandb.log({**metrics, **val_metrics})\n",
        "\n",
        "        print(f\"Train Loss: {train_loss:.3f}, Valid Loss: {val_loss:3f}, Accuracy: {accuracy:.2f}\")"
      ],
      "metadata": {
        "id": "Q9HaD0Pbtg1x"
      },
      "execution_count": null,
      "outputs": []
    },
    {
      "cell_type": "code",
      "source": [
        "PROJECT = \"classification-techniques\""
      ],
      "metadata": {
        "id": "8c5t8CZ0tz3a"
      },
      "execution_count": null,
      "outputs": []
    },
    {
      "cell_type": "code",
      "source": [
        "def run5(loss_func, last_layer):\n",
        "    for _ in range(5):\n",
        "        # 🐝 initialise a wandb run\n",
        "        wandb.init(\n",
        "            project=PROJECT,\n",
        "            config={\n",
        "                \"epochs\": 10,\n",
        "                \"batch_size\": 128,\n",
        "                \"lr\": 1e-3,\n",
        "                \"loss_func\": str(loss_func),\n",
        "                \"last_layer\": str(last_layer),\n",
        "                \"framework\": \"PyTorch\",\n",
        "                })\n",
        "\n",
        "        # Copy your config \n",
        "        config = wandb.config\n",
        "        \n",
        "        # A simple MLP model\n",
        "        model = get_model(last_layer=last_layer)\n",
        "        \n",
        "        # train the model with loss func\n",
        "        train(model, loss_func, config)\n",
        "\n",
        "        # 🐝 Close your wandb run \n",
        "        wandb.finish()"
      ],
      "metadata": {
        "id": "0T3dfqs6t38S"
      },
      "execution_count": null,
      "outputs": []
    },
    {
      "cell_type": "markdown",
      "source": [
        "### Baseline\n",
        "> Run the model without any `last_layer` using `CrossEntropyLoss`"
      ],
      "metadata": {
        "id": "c0szLvQft_iV"
      }
    },
    {
      "cell_type": "code",
      "source": [
        "last_layer = None\n",
        "\n",
        "# Select a loss function\n",
        "loss_func = nn.CrossEntropyLoss()\n",
        "\n",
        "run5(loss_func, last_layer)"
      ],
      "metadata": {
        "id": "IFvLssUMuHKd"
      },
      "execution_count": null,
      "outputs": []
    },
    {
      "cell_type": "markdown",
      "source": [
        "### Common error\n",
        "> Adding Softmax"
      ],
      "metadata": {
        "id": "JitYZejGvOFt"
      }
    },
    {
      "cell_type": "code",
      "source": [
        "last_layer = nn.Softmax(dim=-1)\n",
        "loss_func = nn.CrossEntropyLoss()\n",
        "\n",
        "run5(loss_func, last_layer)"
      ],
      "metadata": {
        "id": "abE25E8UvXYy"
      },
      "execution_count": null,
      "outputs": []
    },
    {
      "cell_type": "markdown",
      "source": [
        "### NLL\n",
        "> You need to pass nn.LogSoftmax"
      ],
      "metadata": {
        "id": "kRGOZKPnvXeY"
      }
    },
    {
      "cell_type": "code",
      "source": [
        "last_layer = nn.LogSoftmax(dim=-1)\n",
        "loss_func = nn.NLLLoss()\n",
        "\n",
        "run5(loss_func, last_layer)"
      ],
      "metadata": {
        "id": "PmkIW06kvXjx"
      },
      "execution_count": null,
      "outputs": []
    },
    {
      "cell_type": "markdown",
      "source": [
        "### Focal Loss\n",
        "> Check this [excellent article](https://amaarora.github.io/2020/06/29/FocalLoss.html) from Aman"
      ],
      "metadata": {
        "id": "HWHT8GfcvXne"
      }
    },
    {
      "cell_type": "code",
      "source": [
        "# from fastai\n",
        "import torch.nn.functional as F\n",
        "\n",
        "class FocalLoss(nn.Module):\n",
        "    \"Focal loss implemented using F.cross_entropy\"\n",
        "    def __init__(self, gamma: float = 2.0, weight=None, reduction: str = 'mean') -> None:\n",
        "        super().__init__()\n",
        "        self.gamma = gamma\n",
        "        self.weight = weight\n",
        "        self.reduction = reduction\n",
        "\n",
        "    def forward(self, inp: torch.Tensor, targ: torch.Tensor):\n",
        "        ce_loss = F.cross_entropy(inp, targ, weight=self.weight, reduction=\"none\")\n",
        "        p_t = torch.exp(-ce_loss)\n",
        "        loss = (1 - p_t)**self.gamma * ce_loss\n",
        "        if self.reduction == \"mean\":\n",
        "            loss = loss.mean()\n",
        "        elif self.reduction == \"sum\":\n",
        "            loss = loss.sum()\n",
        "        return loss"
      ],
      "metadata": {
        "id": "J8sM9Xpdvr_s"
      },
      "execution_count": null,
      "outputs": []
    },
    {
      "cell_type": "code",
      "source": [
        "last_layer = None\n",
        "loss_func = FocalLoss()\n",
        "\n",
        "run5(loss_func, last_layer)"
      ],
      "metadata": {
        "id": "IKAxcuDUvuBV"
      },
      "execution_count": null,
      "outputs": []
    },
    {
      "cell_type": "markdown",
      "source": [
        "## Keras\n",
        "> How to do it in Keras"
      ],
      "metadata": {
        "id": "lzQbxQiSwFFl"
      }
    },
    {
      "cell_type": "code",
      "source": [
        "import random\n",
        "\n",
        "import numpy as np\n",
        "import tensorflow as tf\n",
        "from wandb.keras import WandbCallback\n",
        "\n",
        "# Simple Keras Model\n",
        "\n",
        "def train_keras(loss_func, last_layer, config):\n",
        "    # Get the data\n",
        "    mnist = tf.keras.datasets.mnist\n",
        "    (x_train, y_train), (x_test, y_test) = mnist.load_data()\n",
        "    x_train, x_test = x_train / 255.0, x_test / 255.0\n",
        "    x_train, y_train = x_train[::5], y_train[::5]  # Subset data for a faster demo\n",
        "    x_test, y_test = x_test[::20], y_test[::20]\n",
        "    labels = [str(digit) for digit in range(np.max(y_train) + 1)]\n",
        "\n",
        "    # Build a model\n",
        "    model = tf.keras.models.Sequential([\n",
        "        tf.keras.layers.Flatten(input_shape=(28, 28)),\n",
        "        tf.keras.layers.Dense(256, activation=\"relu\"),\n",
        "        tf.keras.layers.Dense(10, activation=last_layer)\n",
        "        ])\n",
        "\n",
        "    model.compile(optimizer=\"adam\",\n",
        "                  loss=loss_func,\n",
        "                  metrics=[\"accuracy\"]\n",
        "                )\n",
        "\n",
        "    # WandbCallback auto-saves all metrics from model.fit(), plus predictions on validation_data\n",
        "    logging_callback = WandbCallback()\n",
        "\n",
        "    history = model.fit(x=x_train, y=y_train,\n",
        "                        epochs=config.epoch,\n",
        "                        batch_size=config.batch_size,\n",
        "                        validation_data=(x_test, y_test),\n",
        "                        callbacks=[logging_callback]\n",
        "                        )"
      ],
      "metadata": {
        "id": "hH9obY7qwVv6"
      },
      "execution_count": null,
      "outputs": []
    },
    {
      "cell_type": "code",
      "source": [
        "def run5_keras(loss_func, last_layer):\n",
        "    for _ in range(5):\n",
        "        wandb.init(\n",
        "            project=PROJECT,\n",
        "            # Set entity to specify your username or team name\n",
        "            # ex: entity=\"wandb\",\n",
        "            config={\n",
        "                \"epochs\": 10,\n",
        "                \"batch_size\": 128,\n",
        "                \"last_layer\": str(last_layer),\n",
        "                \"loss_func\": str(loss_func),\n",
        "                \"metric\": \"accuracy\",\n",
        "                \"epoch\": 10,\n",
        "                \"framework\": \"Keras\",\n",
        "            })\n",
        "        config = wandb.config\n",
        "\n",
        "        train_keras(loss_func, last_layer, config)\n",
        "\n",
        "        wandb.finish()"
      ],
      "metadata": {
        "id": "Er22iTs1xEBH"
      },
      "execution_count": null,
      "outputs": []
    },
    {
      "cell_type": "markdown",
      "source": [
        "### SoftMax activation in last Dense layer"
      ],
      "metadata": {
        "id": "3n3FGJi41sgW"
      }
    },
    {
      "cell_type": "code",
      "source": [
        "loss_func = tf.keras.losses.SparseCategoricalCrossentropy(from_logits=False)\n",
        "last_layer = \"softmax\"\n",
        "\n",
        "run5_keras(loss_func, last_layer)"
      ],
      "metadata": {
        "id": "nX1NpWhcy78T"
      },
      "execution_count": null,
      "outputs": []
    },
    {
      "cell_type": "markdown",
      "source": [
        "### From Logits (without SoftMax layer)"
      ],
      "metadata": {
        "id": "YoXNi4Dt07pH"
      }
    },
    {
      "cell_type": "code",
      "source": [
        "loss_func = tf.keras.losses.SparseCategoricalCrossentropy(from_logits=True)\n",
        "last_layer = None\n",
        "\n",
        "run5_keras(loss_func, last_layer)"
      ],
      "metadata": {
        "id": "usDknXtrzHPl"
      },
      "execution_count": null,
      "outputs": []
    }
  ]
}